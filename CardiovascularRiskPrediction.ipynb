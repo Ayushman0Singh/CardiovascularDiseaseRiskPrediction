{
  "nbformat": 4,
  "nbformat_minor": 0,
  "metadata": {
    "colab": {
      "name": "CardiovascularRiskPrediction(ModelTesting).ipynb",
      "provenance": [],
      "mount_file_id": "1g6gEDB8DLEUJLUY3WClbqMdZ_nsetIG1",
      "authorship_tag": "ABX9TyMvefNVbADt4aj37MsBCdYV",
      "include_colab_link": true
    },
    "kernelspec": {
      "name": "python3",
      "display_name": "Python 3"
    },
    "language_info": {
      "name": "python"
    }
  },
  "cells": [
    {
      "cell_type": "markdown",
      "metadata": {
        "id": "view-in-github",
        "colab_type": "text"
      },
      "source": [
        "<a href=\"https://colab.research.google.com/github/Ayushman0Singh/CardiovascularDiseaseRiskPrediction/blob/main/CardiovascularRiskPrediction.ipynb\" target=\"_parent\"><img src=\"https://colab.research.google.com/assets/colab-badge.svg\" alt=\"Open In Colab\"/></a>"
      ]
    },
    {
      "cell_type": "code",
      "execution_count": 1,
      "metadata": {
        "id": "R7rAr4mouPwN"
      },
      "outputs": [],
      "source": [
        "import numpy as np\n",
        "import pandas as pd\n",
        "import matplotlib.pyplot as plt\n",
        "from operator import add\n",
        "import seaborn as sns\n",
        "\n",
        "%matplotlib inline"
      ]
    },
    {
      "cell_type": "code",
      "source": [
        "file_path = '/content/drive/MyDrive/Almabetter/Capstone Projects/Supervised ML-Classification /Copy of data_cardiovascular_risk.csv' #loading the dataset/ filepath \n",
        "df = pd.read_csv(file_path) # saving data set as df"
      ],
      "metadata": {
        "id": "pRVtDeMsuweP"
      },
      "execution_count": 2,
      "outputs": []
    },
    {
      "cell_type": "code",
      "source": [
        "df.head(5) #first look at the columns "
      ],
      "metadata": {
        "colab": {
          "base_uri": "https://localhost:8080/",
          "height": 206
        },
        "id": "k5jGWklKu5rq",
        "outputId": "21162bcd-0e6f-45de-b678-50044da146aa"
      },
      "execution_count": 3,
      "outputs": [
        {
          "output_type": "execute_result",
          "data": {
            "text/plain": [
              "   id  age  education sex is_smoking  cigsPerDay  BPMeds  prevalentStroke  \\\n",
              "0   0   64        2.0   F        YES         3.0     0.0                0   \n",
              "1   1   36        4.0   M         NO         0.0     0.0                0   \n",
              "2   2   46        1.0   F        YES        10.0     0.0                0   \n",
              "3   3   50        1.0   M        YES        20.0     0.0                0   \n",
              "4   4   64        1.0   F        YES        30.0     0.0                0   \n",
              "\n",
              "   prevalentHyp  diabetes  totChol  sysBP  diaBP    BMI  heartRate  glucose  \\\n",
              "0             0         0    221.0  148.0   85.0    NaN       90.0     80.0   \n",
              "1             1         0    212.0  168.0   98.0  29.77       72.0     75.0   \n",
              "2             0         0    250.0  116.0   71.0  20.35       88.0     94.0   \n",
              "3             1         0    233.0  158.0   88.0  28.26       68.0     94.0   \n",
              "4             0         0    241.0  136.5   85.0  26.42       70.0     77.0   \n",
              "\n",
              "   TenYearCHD  \n",
              "0           1  \n",
              "1           0  \n",
              "2           0  \n",
              "3           1  \n",
              "4           0  "
            ],
            "text/html": [
              "\n",
              "  <div id=\"df-344d8ed3-62f6-400e-be25-1b0e542d1f19\">\n",
              "    <div class=\"colab-df-container\">\n",
              "      <div>\n",
              "<style scoped>\n",
              "    .dataframe tbody tr th:only-of-type {\n",
              "        vertical-align: middle;\n",
              "    }\n",
              "\n",
              "    .dataframe tbody tr th {\n",
              "        vertical-align: top;\n",
              "    }\n",
              "\n",
              "    .dataframe thead th {\n",
              "        text-align: right;\n",
              "    }\n",
              "</style>\n",
              "<table border=\"1\" class=\"dataframe\">\n",
              "  <thead>\n",
              "    <tr style=\"text-align: right;\">\n",
              "      <th></th>\n",
              "      <th>id</th>\n",
              "      <th>age</th>\n",
              "      <th>education</th>\n",
              "      <th>sex</th>\n",
              "      <th>is_smoking</th>\n",
              "      <th>cigsPerDay</th>\n",
              "      <th>BPMeds</th>\n",
              "      <th>prevalentStroke</th>\n",
              "      <th>prevalentHyp</th>\n",
              "      <th>diabetes</th>\n",
              "      <th>totChol</th>\n",
              "      <th>sysBP</th>\n",
              "      <th>diaBP</th>\n",
              "      <th>BMI</th>\n",
              "      <th>heartRate</th>\n",
              "      <th>glucose</th>\n",
              "      <th>TenYearCHD</th>\n",
              "    </tr>\n",
              "  </thead>\n",
              "  <tbody>\n",
              "    <tr>\n",
              "      <th>0</th>\n",
              "      <td>0</td>\n",
              "      <td>64</td>\n",
              "      <td>2.0</td>\n",
              "      <td>F</td>\n",
              "      <td>YES</td>\n",
              "      <td>3.0</td>\n",
              "      <td>0.0</td>\n",
              "      <td>0</td>\n",
              "      <td>0</td>\n",
              "      <td>0</td>\n",
              "      <td>221.0</td>\n",
              "      <td>148.0</td>\n",
              "      <td>85.0</td>\n",
              "      <td>NaN</td>\n",
              "      <td>90.0</td>\n",
              "      <td>80.0</td>\n",
              "      <td>1</td>\n",
              "    </tr>\n",
              "    <tr>\n",
              "      <th>1</th>\n",
              "      <td>1</td>\n",
              "      <td>36</td>\n",
              "      <td>4.0</td>\n",
              "      <td>M</td>\n",
              "      <td>NO</td>\n",
              "      <td>0.0</td>\n",
              "      <td>0.0</td>\n",
              "      <td>0</td>\n",
              "      <td>1</td>\n",
              "      <td>0</td>\n",
              "      <td>212.0</td>\n",
              "      <td>168.0</td>\n",
              "      <td>98.0</td>\n",
              "      <td>29.77</td>\n",
              "      <td>72.0</td>\n",
              "      <td>75.0</td>\n",
              "      <td>0</td>\n",
              "    </tr>\n",
              "    <tr>\n",
              "      <th>2</th>\n",
              "      <td>2</td>\n",
              "      <td>46</td>\n",
              "      <td>1.0</td>\n",
              "      <td>F</td>\n",
              "      <td>YES</td>\n",
              "      <td>10.0</td>\n",
              "      <td>0.0</td>\n",
              "      <td>0</td>\n",
              "      <td>0</td>\n",
              "      <td>0</td>\n",
              "      <td>250.0</td>\n",
              "      <td>116.0</td>\n",
              "      <td>71.0</td>\n",
              "      <td>20.35</td>\n",
              "      <td>88.0</td>\n",
              "      <td>94.0</td>\n",
              "      <td>0</td>\n",
              "    </tr>\n",
              "    <tr>\n",
              "      <th>3</th>\n",
              "      <td>3</td>\n",
              "      <td>50</td>\n",
              "      <td>1.0</td>\n",
              "      <td>M</td>\n",
              "      <td>YES</td>\n",
              "      <td>20.0</td>\n",
              "      <td>0.0</td>\n",
              "      <td>0</td>\n",
              "      <td>1</td>\n",
              "      <td>0</td>\n",
              "      <td>233.0</td>\n",
              "      <td>158.0</td>\n",
              "      <td>88.0</td>\n",
              "      <td>28.26</td>\n",
              "      <td>68.0</td>\n",
              "      <td>94.0</td>\n",
              "      <td>1</td>\n",
              "    </tr>\n",
              "    <tr>\n",
              "      <th>4</th>\n",
              "      <td>4</td>\n",
              "      <td>64</td>\n",
              "      <td>1.0</td>\n",
              "      <td>F</td>\n",
              "      <td>YES</td>\n",
              "      <td>30.0</td>\n",
              "      <td>0.0</td>\n",
              "      <td>0</td>\n",
              "      <td>0</td>\n",
              "      <td>0</td>\n",
              "      <td>241.0</td>\n",
              "      <td>136.5</td>\n",
              "      <td>85.0</td>\n",
              "      <td>26.42</td>\n",
              "      <td>70.0</td>\n",
              "      <td>77.0</td>\n",
              "      <td>0</td>\n",
              "    </tr>\n",
              "  </tbody>\n",
              "</table>\n",
              "</div>\n",
              "      <button class=\"colab-df-convert\" onclick=\"convertToInteractive('df-344d8ed3-62f6-400e-be25-1b0e542d1f19')\"\n",
              "              title=\"Convert this dataframe to an interactive table.\"\n",
              "              style=\"display:none;\">\n",
              "        \n",
              "  <svg xmlns=\"http://www.w3.org/2000/svg\" height=\"24px\"viewBox=\"0 0 24 24\"\n",
              "       width=\"24px\">\n",
              "    <path d=\"M0 0h24v24H0V0z\" fill=\"none\"/>\n",
              "    <path d=\"M18.56 5.44l.94 2.06.94-2.06 2.06-.94-2.06-.94-.94-2.06-.94 2.06-2.06.94zm-11 1L8.5 8.5l.94-2.06 2.06-.94-2.06-.94L8.5 2.5l-.94 2.06-2.06.94zm10 10l.94 2.06.94-2.06 2.06-.94-2.06-.94-.94-2.06-.94 2.06-2.06.94z\"/><path d=\"M17.41 7.96l-1.37-1.37c-.4-.4-.92-.59-1.43-.59-.52 0-1.04.2-1.43.59L10.3 9.45l-7.72 7.72c-.78.78-.78 2.05 0 2.83L4 21.41c.39.39.9.59 1.41.59.51 0 1.02-.2 1.41-.59l7.78-7.78 2.81-2.81c.8-.78.8-2.07 0-2.86zM5.41 20L4 18.59l7.72-7.72 1.47 1.35L5.41 20z\"/>\n",
              "  </svg>\n",
              "      </button>\n",
              "      \n",
              "  <style>\n",
              "    .colab-df-container {\n",
              "      display:flex;\n",
              "      flex-wrap:wrap;\n",
              "      gap: 12px;\n",
              "    }\n",
              "\n",
              "    .colab-df-convert {\n",
              "      background-color: #E8F0FE;\n",
              "      border: none;\n",
              "      border-radius: 50%;\n",
              "      cursor: pointer;\n",
              "      display: none;\n",
              "      fill: #1967D2;\n",
              "      height: 32px;\n",
              "      padding: 0 0 0 0;\n",
              "      width: 32px;\n",
              "    }\n",
              "\n",
              "    .colab-df-convert:hover {\n",
              "      background-color: #E2EBFA;\n",
              "      box-shadow: 0px 1px 2px rgba(60, 64, 67, 0.3), 0px 1px 3px 1px rgba(60, 64, 67, 0.15);\n",
              "      fill: #174EA6;\n",
              "    }\n",
              "\n",
              "    [theme=dark] .colab-df-convert {\n",
              "      background-color: #3B4455;\n",
              "      fill: #D2E3FC;\n",
              "    }\n",
              "\n",
              "    [theme=dark] .colab-df-convert:hover {\n",
              "      background-color: #434B5C;\n",
              "      box-shadow: 0px 1px 3px 1px rgba(0, 0, 0, 0.15);\n",
              "      filter: drop-shadow(0px 1px 2px rgba(0, 0, 0, 0.3));\n",
              "      fill: #FFFFFF;\n",
              "    }\n",
              "  </style>\n",
              "\n",
              "      <script>\n",
              "        const buttonEl =\n",
              "          document.querySelector('#df-344d8ed3-62f6-400e-be25-1b0e542d1f19 button.colab-df-convert');\n",
              "        buttonEl.style.display =\n",
              "          google.colab.kernel.accessAllowed ? 'block' : 'none';\n",
              "\n",
              "        async function convertToInteractive(key) {\n",
              "          const element = document.querySelector('#df-344d8ed3-62f6-400e-be25-1b0e542d1f19');\n",
              "          const dataTable =\n",
              "            await google.colab.kernel.invokeFunction('convertToInteractive',\n",
              "                                                     [key], {});\n",
              "          if (!dataTable) return;\n",
              "\n",
              "          const docLinkHtml = 'Like what you see? Visit the ' +\n",
              "            '<a target=\"_blank\" href=https://colab.research.google.com/notebooks/data_table.ipynb>data table notebook</a>'\n",
              "            + ' to learn more about interactive tables.';\n",
              "          element.innerHTML = '';\n",
              "          dataTable['output_type'] = 'display_data';\n",
              "          await google.colab.output.renderOutput(dataTable, element);\n",
              "          const docLink = document.createElement('div');\n",
              "          docLink.innerHTML = docLinkHtml;\n",
              "          element.appendChild(docLink);\n",
              "        }\n",
              "      </script>\n",
              "    </div>\n",
              "  </div>\n",
              "  "
            ]
          },
          "metadata": {},
          "execution_count": 3
        }
      ]
    },
    {
      "cell_type": "code",
      "source": [
        "df.shape # no of rows and columns "
      ],
      "metadata": {
        "colab": {
          "base_uri": "https://localhost:8080/"
        },
        "id": "nDvqu5AO4p9S",
        "outputId": "5a0372ed-6756-4357-fc33-f3bbd1589e6c"
      },
      "execution_count": 4,
      "outputs": [
        {
          "output_type": "execute_result",
          "data": {
            "text/plain": [
              "(3390, 17)"
            ]
          },
          "metadata": {},
          "execution_count": 4
        }
      ]
    },
    {
      "cell_type": "markdown",
      "source": [
        "# DATA SET"
      ],
      "metadata": {
        "id": "24OIOgGesMXL"
      }
    },
    {
      "cell_type": "markdown",
      "source": [
        "Getting a first look at the data set. We can say that the dataset provides the patient's information. It includes over 3,000 records and 15 attributes. Variables Each attribute is a potential risk factor which could contribut to Coronary Heart Disease(CHD) which is our dependent variable for this problem. The features given to us can be divided into multiple catagories such as demographic, behavioral and medical risk factors.\n",
        "\n",
        "Lets have look at these attributes."
      ],
      "metadata": {
        "id": "He3vfHJTsgCo"
      }
    },
    {
      "cell_type": "markdown",
      "source": [
        "\n",
        "**Age**: Age of the Subject;(Continuous - converted to whole numbers)\n",
        "\n",
        "**Sex**: male or female(Nominal)\n",
        "\n",
        "**Education**: Education of the subject\n",
        "\n",
        "**is_Smoking**: whether or not the patient is a smoker (Nominal)\n",
        "\n",
        "**Cigs_Per_Day**: the number of cigarettes the person smoked on average in one day.(continuous)\n",
        "\n",
        "**BPMeds**: whether or not the patient was on blood pressure medication (Nominal)\n",
        "\n",
        "**PrevalentStroke**: whether or not the patient had previously had a stroke (Nominal)\n",
        "\n",
        "**PrevalentHyp**: whether or not the patient was hypertensive (Nominal)\n",
        "\n",
        "**Diabetes**: whether or not the patient had diabetes (Nominal)\n",
        "\n",
        "**TotChol**: total cholesterol level (Continuous)\n",
        "\n",
        "**SysBP**: systolic blood pressure (Continuous)\n",
        "\n",
        "**DiaBP**: diastolic blood pressure (Continuous)\n",
        "\n",
        "**BMI**: Body Mass Index (Continuous)\n",
        "\n",
        "**Heart Rate**: heart rate (Continuous)\n",
        "\n",
        "**Glucose**: glucose level (Continuous)\n",
        "\n",
        "**Ten_Year_CHD (Target Variable)**: rist of getting a coronary heart disease in 10 years (Nominal(yes or no))\n",
        "\n",
        "These is my interpretation of the columns given to us in the data set. There demographic features such as age/sex. There are behavioral features related to smoking. We also have many health related medical information on the subjects.\n"
      ],
      "metadata": {
        "id": "WIKIXzDktO_Z"
      }
    },
    {
      "cell_type": "markdown",
      "source": [
        "# Exploratory Data Analysis"
      ],
      "metadata": {
        "id": "dDtm1TXEwPQE"
      }
    },
    {
      "cell_type": "markdown",
      "source": [
        "**Null values in the data set**"
      ],
      "metadata": {
        "id": "7zilQbPFwZOY"
      }
    },
    {
      "cell_type": "code",
      "source": [
        "#null values in the data set\n",
        "df.isnull().sum()"
      ],
      "metadata": {
        "colab": {
          "base_uri": "https://localhost:8080/"
        },
        "id": "bi7kn7Vh0p8W",
        "outputId": "2c3c2d53-2af6-4139-c423-0c1cf8a47c8c"
      },
      "execution_count": 5,
      "outputs": [
        {
          "output_type": "execute_result",
          "data": {
            "text/plain": [
              "id                   0\n",
              "age                  0\n",
              "education           87\n",
              "sex                  0\n",
              "is_smoking           0\n",
              "cigsPerDay          22\n",
              "BPMeds              44\n",
              "prevalentStroke      0\n",
              "prevalentHyp         0\n",
              "diabetes             0\n",
              "totChol             38\n",
              "sysBP                0\n",
              "diaBP                0\n",
              "BMI                 14\n",
              "heartRate            1\n",
              "glucose            304\n",
              "TenYearCHD           0\n",
              "dtype: int64"
            ]
          },
          "metadata": {},
          "execution_count": 5
        }
      ]
    },
    {
      "cell_type": "markdown",
      "source": [
        "The nnumber of null values is low compared to the whole data set. glucose seems to have the highest number of null values. 304 rows are null out of 3390 rows. The total nuber of null values is less than 10 percent for the hight null valued column. So, its safe to drop these rows."
      ],
      "metadata": {
        "id": "vRMWpbmLwkuP"
      }
    },
    {
      "cell_type": "code",
      "source": [
        "# dropping null values\n",
        "df = df.dropna(how ='any')"
      ],
      "metadata": {
        "id": "KZHdWATz7YvS"
      },
      "execution_count": 6,
      "outputs": []
    },
    {
      "cell_type": "markdown",
      "source": [
        "Education column doesnt contribute anything towards the target variable."
      ],
      "metadata": {
        "id": "boiV89SfxGT7"
      }
    },
    {
      "cell_type": "code",
      "source": [
        "# droping the education column since it has no effect on Ten_year_CHD\n",
        "df.drop(labels = 'education', axis = 1, inplace = True)"
      ],
      "metadata": {
        "id": "UVR7fuzuBs3y"
      },
      "execution_count": 7,
      "outputs": []
    },
    {
      "cell_type": "code",
      "source": [
        "df.shape"
      ],
      "metadata": {
        "colab": {
          "base_uri": "https://localhost:8080/"
        },
        "id": "KSK3vcvztOlU",
        "outputId": "acb5d0fd-63e3-4da5-b196-ef141ea277be"
      },
      "execution_count": 9,
      "outputs": [
        {
          "output_type": "execute_result",
          "data": {
            "text/plain": [
              "(2927, 16)"
            ]
          },
          "metadata": {},
          "execution_count": 9
        }
      ]
    },
    {
      "cell_type": "markdown",
      "source": [
        "Lets have a look at the distribution of target variable. Since our data get might have class imbalance. "
      ],
      "metadata": {
        "id": "f7_fqiLrx6OP"
      }
    },
    {
      "cell_type": "code",
      "source": [
        "#prevalance in the data set\n",
        "df['TenYearCHD'].value_counts(normalize=True)"
      ],
      "metadata": {
        "colab": {
          "base_uri": "https://localhost:8080/"
        },
        "id": "QAoWmDWMiH0S",
        "outputId": "2ec3d4f3-1009-430b-adce-75867269f4c5"
      },
      "execution_count": 10,
      "outputs": [
        {
          "output_type": "execute_result",
          "data": {
            "text/plain": [
              "0    0.848309\n",
              "1    0.151691\n",
              "Name: TenYearCHD, dtype: float64"
            ]
          },
          "metadata": {},
          "execution_count": 10
        }
      ]
    },
    {
      "cell_type": "markdown",
      "source": [
        "85 percent of the data has no Ten_year_CHD while 15 percent is positive"
      ],
      "metadata": {
        "id": "1zMxTPZmyQRs"
      }
    },
    {
      "cell_type": "markdown",
      "source": [
        "**Data Type Check**\n",
        "\n",
        "\n",
        "Next, We will check if the data-types are correct for the the columns or we need to do some data cleaning before we move to distributions."
      ],
      "metadata": {
        "id": "XNgjEkT9yqR-"
      }
    },
    {
      "cell_type": "code",
      "source": [
        "df.info()"
      ],
      "metadata": {
        "colab": {
          "base_uri": "https://localhost:8080/"
        },
        "id": "EQXURXUM9g8o",
        "outputId": "3a7d7da7-74ca-43f8-a697-cf0a48e36029"
      },
      "execution_count": null,
      "outputs": [
        {
          "output_type": "stream",
          "name": "stdout",
          "text": [
            "<class 'pandas.core.frame.DataFrame'>\n",
            "Int64Index: 2927 entries, 1 to 3389\n",
            "Data columns (total 17 columns):\n",
            " #   Column           Non-Null Count  Dtype  \n",
            "---  ------           --------------  -----  \n",
            " 0   id               2927 non-null   int64  \n",
            " 1   age              2927 non-null   int64  \n",
            " 2   education        2927 non-null   float64\n",
            " 3   sex              2927 non-null   object \n",
            " 4   is_smoking       2927 non-null   object \n",
            " 5   cigsPerDay       2927 non-null   float64\n",
            " 6   BPMeds           2927 non-null   float64\n",
            " 7   prevalentStroke  2927 non-null   int64  \n",
            " 8   prevalentHyp     2927 non-null   int64  \n",
            " 9   diabetes         2927 non-null   int64  \n",
            " 10  totChol          2927 non-null   float64\n",
            " 11  sysBP            2927 non-null   float64\n",
            " 12  diaBP            2927 non-null   float64\n",
            " 13  BMI              2927 non-null   float64\n",
            " 14  heartRate        2927 non-null   float64\n",
            " 15  glucose          2927 non-null   float64\n",
            " 16  TenYearCHD       2927 non-null   int64  \n",
            "dtypes: float64(9), int64(6), object(2)\n",
            "memory usage: 411.6+ KB\n"
          ]
        }
      ]
    },
    {
      "cell_type": "markdown",
      "source": [
        "All the data-types are in the correct format, no cleaning is required."
      ],
      "metadata": {
        "id": "qPf5v_J5z3mg"
      }
    },
    {
      "cell_type": "code",
      "source": [
        "# plot histogram to see the distribution of the data\n",
        "fig = plt.figure(figsize = (15,20))\n",
        "ax = fig.gca()\n",
        "df.hist(ax = ax)\n",
        "plt.show()"
      ],
      "metadata": {
        "colab": {
          "base_uri": "https://localhost:8080/",
          "height": 1000
        },
        "id": "0XbalXo7z0ew",
        "outputId": "95fda174-1654-4a6f-9725-2aa87c7b2cf1"
      },
      "execution_count": 12,
      "outputs": [
        {
          "output_type": "stream",
          "name": "stderr",
          "text": [
            "/usr/local/lib/python3.7/dist-packages/ipykernel_launcher.py:4: UserWarning: To output multiple subplots, the figure containing the passed axes is being cleared\n",
            "  after removing the cwd from sys.path.\n"
          ]
        },
        {
          "output_type": "display_data",
          "data": {
            "text/plain": [
              "<Figure size 1080x1440 with 16 Axes>"
            ],
            "image/png": "[encoded data removed]"
          },
          "metadata": {
            "needs_background": "light"
          }
        }
      ]
    },
    {
      "cell_type": "code",
      "source": [
        ""
      ],
      "metadata": {
        "id": "_q32TR25z0hh"
      },
      "execution_count": null,
      "outputs": []
    },
    {
      "cell_type": "code",
      "source": [
        ""
      ],
      "metadata": {
        "id": "8YIey2AUz0kM"
      },
      "execution_count": null,
      "outputs": []
    },
    {
      "cell_type": "code",
      "source": [
        ""
      ],
      "metadata": {
        "id": "zgUtGKCsz0mx"
      },
      "execution_count": null,
      "outputs": []
    },
    {
      "cell_type": "code",
      "source": [
        ""
      ],
      "metadata": {
        "id": "jhmqaLbcz0pm"
      },
      "execution_count": null,
      "outputs": []
    },
    {
      "cell_type": "code",
      "source": [
        ""
      ],
      "metadata": {
        "id": "zzMahTqyz0uK"
      },
      "execution_count": null,
      "outputs": []
    },
    {
      "cell_type": "code",
      "source": [
        ""
      ],
      "metadata": {
        "id": "I6kdpTpbz0xA"
      },
      "execution_count": null,
      "outputs": []
    },
    {
      "cell_type": "code",
      "source": [
        ""
      ],
      "metadata": {
        "id": "Ev_KFMFhz0zt"
      },
      "execution_count": null,
      "outputs": []
    },
    {
      "cell_type": "code",
      "source": [
        ""
      ],
      "metadata": {
        "id": "eC7__Qvsz02P"
      },
      "execution_count": null,
      "outputs": []
    },
    {
      "cell_type": "code",
      "source": [
        ""
      ],
      "metadata": {
        "id": "Z7hkYVANz04s"
      },
      "execution_count": null,
      "outputs": []
    },
    {
      "cell_type": "code",
      "source": [
        ""
      ],
      "metadata": {
        "id": "03chz9vhz07Y"
      },
      "execution_count": null,
      "outputs": []
    },
    {
      "cell_type": "code",
      "source": [
        ""
      ],
      "metadata": {
        "id": "zrF9nVS8z09y"
      },
      "execution_count": null,
      "outputs": []
    },
    {
      "cell_type": "code",
      "source": [
        ""
      ],
      "metadata": {
        "id": "T1m3hnxAz1AW"
      },
      "execution_count": null,
      "outputs": []
    },
    {
      "cell_type": "code",
      "source": [
        ""
      ],
      "metadata": {
        "id": "_nrg6hHHz1DB"
      },
      "execution_count": null,
      "outputs": []
    },
    {
      "cell_type": "code",
      "source": [
        "#selecting features froms the data\n",
        "features = list(df.columns)[1:-1]\n",
        "X = df[features]\n",
        "y = df['TenYearCHD']\n",
        "#determining the numeric/catagorical feature\n",
        "cat_col = ['sex', 'is_smoking', 'prevalentStroke', 'prevalentHyp', 'diabetes']\n",
        "all_columns = list(X.columns)\n",
        "numeric_col = [i for i in all_columns if i not in cat_col]\n",
        "numeric_col"
      ],
      "metadata": {
        "colab": {
          "base_uri": "https://localhost:8080/"
        },
        "id": "zD0-oSD_yugZ",
        "outputId": "8aa2266e-11d8-4a41-e4da-fed51bb4ec26"
      },
      "execution_count": null,
      "outputs": [
        {
          "output_type": "execute_result",
          "data": {
            "text/plain": [
              "['age',\n",
              " 'cigsPerDay',\n",
              " 'BPMeds',\n",
              " 'totChol',\n",
              " 'sysBP',\n",
              " 'diaBP',\n",
              " 'BMI',\n",
              " 'heartRate',\n",
              " 'glucose']"
            ]
          },
          "metadata": {},
          "execution_count": 8
        }
      ]
    },
    {
      "cell_type": "code",
      "source": [
        "# Using standard Scalar on the numeric features\n",
        "from sklearn.preprocessing import StandardScaler\n",
        "sc = StandardScaler()\n",
        "X[numeric_col]= sc.fit_transform(X[numeric_col])"
      ],
      "metadata": {
        "colab": {
          "base_uri": "https://localhost:8080/"
        },
        "id": "1s3FSTwM_LCp",
        "outputId": "71777c4a-c5dd-40c4-ac79-e693bf8abd4f"
      },
      "execution_count": null,
      "outputs": [
        {
          "output_type": "stream",
          "name": "stderr",
          "text": [
            "/usr/local/lib/python3.7/dist-packages/pandas/core/frame.py:3678: SettingWithCopyWarning: \n",
            "A value is trying to be set on a copy of a slice from a DataFrame.\n",
            "Try using .loc[row_indexer,col_indexer] = value instead\n",
            "\n",
            "See the caveats in the documentation: https://pandas.pydata.org/pandas-docs/stable/user_guide/indexing.html#returning-a-view-versus-a-copy\n",
            "  self[col] = igetitem(value, i)\n"
          ]
        }
      ]
    },
    {
      "cell_type": "code",
      "source": [
        "X = pd.get_dummies(X,columns=['sex', 'is_smoking', 'prevalentStroke', 'prevalentHyp', 'diabetes'])\n",
        "X.sample(3)"
      ],
      "metadata": {
        "colab": {
          "base_uri": "https://localhost:8080/",
          "height": 207
        },
        "id": "hqX01NpXTyMu",
        "outputId": "c1e09d53-1977-45b1-8af5-ee38627e28b0"
      },
      "execution_count": null,
      "outputs": [
        {
          "output_type": "execute_result",
          "data": {
            "text/plain": [
              "           age  cigsPerDay    BPMeds   totChol     sysBP     diaBP       BMI  \\\n",
              "1979  2.151379   -0.767017 -0.176059 -0.159826 -0.386447 -1.068678 -0.713626   \n",
              "1352  2.035042   -0.767017 -0.176059  0.602409  0.285525 -0.240645 -0.011391   \n",
              "471  -1.338729    2.178924 -0.176059 -1.639459 -1.013620 -0.571858 -0.471476   \n",
              "\n",
              "      heartRate   glucose  sex_F  sex_M  is_smoking_NO  is_smoking_YES  \\\n",
              "1979  -0.491954 -0.910035      0      1              1               0   \n",
              "1352  -0.074214  0.210166      1      0              1               0   \n",
              "471   -0.659050  0.044210      1      0              0               1   \n",
              "\n",
              "      prevalentStroke_0  prevalentStroke_1  prevalentHyp_0  prevalentHyp_1  \\\n",
              "1979                  1                  0               1               0   \n",
              "1352                  1                  0               0               1   \n",
              "471                   1                  0               1               0   \n",
              "\n",
              "      diabetes_0  diabetes_1  \n",
              "1979           1           0  \n",
              "1352           1           0  \n",
              "471            1           0  "
            ],
            "text/html": [
              "\n",
              "  <div id=\"df-d2a4e902-9b6c-4407-8b6b-444ee1210150\">\n",
              "    <div class=\"colab-df-container\">\n",
              "      <div>\n",
              "<style scoped>\n",
              "    .dataframe tbody tr th:only-of-type {\n",
              "        vertical-align: middle;\n",
              "    }\n",
              "\n",
              "    .dataframe tbody tr th {\n",
              "        vertical-align: top;\n",
              "    }\n",
              "\n",
              "    .dataframe thead th {\n",
              "        text-align: right;\n",
              "    }\n",
              "</style>\n",
              "<table border=\"1\" class=\"dataframe\">\n",
              "  <thead>\n",
              "    <tr style=\"text-align: right;\">\n",
              "      <th></th>\n",
              "      <th>age</th>\n",
              "      <th>cigsPerDay</th>\n",
              "      <th>BPMeds</th>\n",
              "      <th>totChol</th>\n",
              "      <th>sysBP</th>\n",
              "      <th>diaBP</th>\n",
              "      <th>BMI</th>\n",
              "      <th>heartRate</th>\n",
              "      <th>glucose</th>\n",
              "      <th>sex_F</th>\n",
              "      <th>sex_M</th>\n",
              "      <th>is_smoking_NO</th>\n",
              "      <th>is_smoking_YES</th>\n",
              "      <th>prevalentStroke_0</th>\n",
              "      <th>prevalentStroke_1</th>\n",
              "      <th>prevalentHyp_0</th>\n",
              "      <th>prevalentHyp_1</th>\n",
              "      <th>diabetes_0</th>\n",
              "      <th>diabetes_1</th>\n",
              "    </tr>\n",
              "  </thead>\n",
              "  <tbody>\n",
              "    <tr>\n",
              "      <th>1979</th>\n",
              "      <td>2.151379</td>\n",
              "      <td>-0.767017</td>\n",
              "      <td>-0.176059</td>\n",
              "      <td>-0.159826</td>\n",
              "      <td>-0.386447</td>\n",
              "      <td>-1.068678</td>\n",
              "      <td>-0.713626</td>\n",
              "      <td>-0.491954</td>\n",
              "      <td>-0.910035</td>\n",
              "      <td>0</td>\n",
              "      <td>1</td>\n",
              "      <td>1</td>\n",
              "      <td>0</td>\n",
              "      <td>1</td>\n",
              "      <td>0</td>\n",
              "      <td>1</td>\n",
              "      <td>0</td>\n",
              "      <td>1</td>\n",
              "      <td>0</td>\n",
              "    </tr>\n",
              "    <tr>\n",
              "      <th>1352</th>\n",
              "      <td>2.035042</td>\n",
              "      <td>-0.767017</td>\n",
              "      <td>-0.176059</td>\n",
              "      <td>0.602409</td>\n",
              "      <td>0.285525</td>\n",
              "      <td>-0.240645</td>\n",
              "      <td>-0.011391</td>\n",
              "      <td>-0.074214</td>\n",
              "      <td>0.210166</td>\n",
              "      <td>1</td>\n",
              "      <td>0</td>\n",
              "      <td>1</td>\n",
              "      <td>0</td>\n",
              "      <td>1</td>\n",
              "      <td>0</td>\n",
              "      <td>0</td>\n",
              "      <td>1</td>\n",
              "      <td>1</td>\n",
              "      <td>0</td>\n",
              "    </tr>\n",
              "    <tr>\n",
              "      <th>471</th>\n",
              "      <td>-1.338729</td>\n",
              "      <td>2.178924</td>\n",
              "      <td>-0.176059</td>\n",
              "      <td>-1.639459</td>\n",
              "      <td>-1.013620</td>\n",
              "      <td>-0.571858</td>\n",
              "      <td>-0.471476</td>\n",
              "      <td>-0.659050</td>\n",
              "      <td>0.044210</td>\n",
              "      <td>1</td>\n",
              "      <td>0</td>\n",
              "      <td>0</td>\n",
              "      <td>1</td>\n",
              "      <td>1</td>\n",
              "      <td>0</td>\n",
              "      <td>1</td>\n",
              "      <td>0</td>\n",
              "      <td>1</td>\n",
              "      <td>0</td>\n",
              "    </tr>\n",
              "  </tbody>\n",
              "</table>\n",
              "</div>\n",
              "      <button class=\"colab-df-convert\" onclick=\"convertToInteractive('df-d2a4e902-9b6c-4407-8b6b-444ee1210150')\"\n",
              "              title=\"Convert this dataframe to an interactive table.\"\n",
              "              style=\"display:none;\">\n",
              "        \n",
              "  <svg xmlns=\"http://www.w3.org/2000/svg\" height=\"24px\"viewBox=\"0 0 24 24\"\n",
              "       width=\"24px\">\n",
              "    <path d=\"M0 0h24v24H0V0z\" fill=\"none\"/>\n",
              "    <path d=\"M18.56 5.44l.94 2.06.94-2.06 2.06-.94-2.06-.94-.94-2.06-.94 2.06-2.06.94zm-11 1L8.5 8.5l.94-2.06 2.06-.94-2.06-.94L8.5 2.5l-.94 2.06-2.06.94zm10 10l.94 2.06.94-2.06 2.06-.94-2.06-.94-.94-2.06-.94 2.06-2.06.94z\"/><path d=\"M17.41 7.96l-1.37-1.37c-.4-.4-.92-.59-1.43-.59-.52 0-1.04.2-1.43.59L10.3 9.45l-7.72 7.72c-.78.78-.78 2.05 0 2.83L4 21.41c.39.39.9.59 1.41.59.51 0 1.02-.2 1.41-.59l7.78-7.78 2.81-2.81c.8-.78.8-2.07 0-2.86zM5.41 20L4 18.59l7.72-7.72 1.47 1.35L5.41 20z\"/>\n",
              "  </svg>\n",
              "      </button>\n",
              "      \n",
              "  <style>\n",
              "    .colab-df-container {\n",
              "      display:flex;\n",
              "      flex-wrap:wrap;\n",
              "      gap: 12px;\n",
              "    }\n",
              "\n",
              "    .colab-df-convert {\n",
              "      background-color: #E8F0FE;\n",
              "      border: none;\n",
              "      border-radius: 50%;\n",
              "      cursor: pointer;\n",
              "      display: none;\n",
              "      fill: #1967D2;\n",
              "      height: 32px;\n",
              "      padding: 0 0 0 0;\n",
              "      width: 32px;\n",
              "    }\n",
              "\n",
              "    .colab-df-convert:hover {\n",
              "      background-color: #E2EBFA;\n",
              "      box-shadow: 0px 1px 2px rgba(60, 64, 67, 0.3), 0px 1px 3px 1px rgba(60, 64, 67, 0.15);\n",
              "      fill: #174EA6;\n",
              "    }\n",
              "\n",
              "    [theme=dark] .colab-df-convert {\n",
              "      background-color: #3B4455;\n",
              "      fill: #D2E3FC;\n",
              "    }\n",
              "\n",
              "    [theme=dark] .colab-df-convert:hover {\n",
              "      background-color: #434B5C;\n",
              "      box-shadow: 0px 1px 3px 1px rgba(0, 0, 0, 0.15);\n",
              "      filter: drop-shadow(0px 1px 2px rgba(0, 0, 0, 0.3));\n",
              "      fill: #FFFFFF;\n",
              "    }\n",
              "  </style>\n",
              "\n",
              "      <script>\n",
              "        const buttonEl =\n",
              "          document.querySelector('#df-d2a4e902-9b6c-4407-8b6b-444ee1210150 button.colab-df-convert');\n",
              "        buttonEl.style.display =\n",
              "          google.colab.kernel.accessAllowed ? 'block' : 'none';\n",
              "\n",
              "        async function convertToInteractive(key) {\n",
              "          const element = document.querySelector('#df-d2a4e902-9b6c-4407-8b6b-444ee1210150');\n",
              "          const dataTable =\n",
              "            await google.colab.kernel.invokeFunction('convertToInteractive',\n",
              "                                                     [key], {});\n",
              "          if (!dataTable) return;\n",
              "\n",
              "          const docLinkHtml = 'Like what you see? Visit the ' +\n",
              "            '<a target=\"_blank\" href=https://colab.research.google.com/notebooks/data_table.ipynb>data table notebook</a>'\n",
              "            + ' to learn more about interactive tables.';\n",
              "          element.innerHTML = '';\n",
              "          dataTable['output_type'] = 'display_data';\n",
              "          await google.colab.output.renderOutput(dataTable, element);\n",
              "          const docLink = document.createElement('div');\n",
              "          docLink.innerHTML = docLinkHtml;\n",
              "          element.appendChild(docLink);\n",
              "        }\n",
              "      </script>\n",
              "    </div>\n",
              "  </div>\n",
              "  "
            ]
          },
          "metadata": {},
          "execution_count": 10
        }
      ]
    },
    {
      "cell_type": "code",
      "source": [
        " #test-train split\n",
        "from sklearn.model_selection import train_test_split \n",
        "X_train, X_test, y_train, y_test = train_test_split( X,y , test_size = 0.15, stratify= y , random_state = 42) \n",
        "print(X_train.shape)\n",
        "print(X_test.shape)\n",
        "print(y_train.shape)\n",
        "print(y_test.shape)"
      ],
      "metadata": {
        "colab": {
          "base_uri": "https://localhost:8080/"
        },
        "id": "-F2pP9HjUinF",
        "outputId": "1708d598-ad5d-4fbd-e112-341be99b1913"
      },
      "execution_count": null,
      "outputs": [
        {
          "output_type": "stream",
          "name": "stdout",
          "text": [
            "(2487, 19)\n",
            "(440, 19)\n",
            "(2487,)\n",
            "(440,)\n"
          ]
        }
      ]
    },
    {
      "cell_type": "code",
      "source": [
        "from sklearn.tree import DecisionTreeClassifier\n",
        "from sklearn.ensemble import RandomForestClassifier\n",
        "from sklearn.model_selection import GridSearchCV\n",
        "from sklearn.metrics import f1_score\n",
        "from sklearn.metrics import roc_auc_score\n",
        "from sklearn.metrics import recall_score\n",
        "from sklearn.metrics import confusion_matrix\n",
        "from sklearn.metrics import balanced_accuracy_score"
      ],
      "metadata": {
        "id": "ou33GzBQcnne"
      },
      "execution_count": null,
      "outputs": []
    },
    {
      "cell_type": "markdown",
      "source": [
        "# Decision Trees"
      ],
      "metadata": {
        "id": "ZgONPRgyyO7q"
      }
    },
    {
      "cell_type": "code",
      "source": [
        "#Decision tree Classifier Hyperparameter tunning\n",
        "DT= DecisionTreeClassifier()\n",
        "DT_param = {'max_depth':np.arange(10,40,2), 'max_leaf_nodes':np.arange(50,150,10)}\n",
        "DT = GridSearchCV(DT, param_grid= DT_param, scoring ='f1' , cv = 5)\n",
        "DT.fit(X_train,y_train)\n",
        "print(DT.best_params_)\n",
        "DT = DT.best_estimator_"
      ],
      "metadata": {
        "colab": {
          "base_uri": "https://localhost:8080/"
        },
        "id": "ghPml5COdSIL",
        "outputId": "539da597-d866-48ea-8980-ad004c3ceff1"
      },
      "execution_count": null,
      "outputs": [
        {
          "output_type": "stream",
          "name": "stdout",
          "text": [
            "{'max_depth': 14, 'max_leaf_nodes': 140}\n"
          ]
        }
      ]
    },
    {
      "cell_type": "code",
      "source": [
        "y_pred_test_DT = DT.predict(X_test)\n",
        "y_pred_train_DT = DT.predict(X_train)\n",
        "print('f1 score on test set:', f1_score(y_test,y_pred_test_DT))\n",
        "print('f1 score on train set:',f1_score(y_train,y_pred_train_DT) )\n",
        "print('Auc_score Test:', roc_auc_score(y_test,y_pred_test_DT))\n",
        "print('Auc_score Train:', roc_auc_score(y_train,y_pred_train_DT))\n",
        "# Recall is an important metric in this case\n",
        "print('Recall Score:', recall_score(y_test,y_pred_test_DT,pos_label=1))\n",
        "print('Overall acccuracy', balanced_accuracy_score(y_train,y_pred_train_DT))\n",
        "# Since its binary classiffication, lets check the confusion matrix\n",
        "print('\\nConfusion matrix\\n', confusion_matrix(y_test,y_pred_test_DT))\n",
        "print('Confusion matrix train\\n', confusion_matrix(y_train,y_pred_train_DT,labels=[1,0]))\n",
        "print('Confusion matrix model\\n', confusion_matrix(y_test,y_pred_test_DT,labels=[1,0]) + confusion_matrix(y_train,y_pred_train_DT,labels=[1,0]))"
      ],
      "metadata": {
        "colab": {
          "base_uri": "https://localhost:8080/"
        },
        "id": "4E2l_hnbqfOS",
        "outputId": "4402d06d-62f3-4495-c56c-f03f3e37ee96"
      },
      "execution_count": null,
      "outputs": [
        {
          "output_type": "stream",
          "name": "stdout",
          "text": [
            "f1 score on test set: 0.11764705882352941\n",
            "f1 score on train set: 0.7539936102236422\n",
            "Auc_score Test: 0.5059021247649154\n",
            "Auc_score Train: 0.809916778759727\n",
            "Recall Score: 0.08955223880597014\n",
            "Overall acccuracy 0.809916778759727\n",
            "\n",
            "Confusion matrix\n",
            " [[344  29]\n",
            " [ 61   6]]\n",
            "Confusion matrix train\n",
            " [[ 236  141]\n",
            " [  13 2097]]\n",
            "Confusion matrix model\n",
            " [[ 242  202]\n",
            " [  42 2441]]\n"
          ]
        }
      ]
    },
    {
      "cell_type": "code",
      "source": [
        "feature_imp=DT.feature_importances_\n",
        "Columns = X_train.columns\n",
        "featureImp_DT = pd.DataFrame(zip(Columns,feature_imp), columns = ('Features','Importance'))\n",
        "featureImp_DT.sort_values(['Importance'], axis=0, ascending=False, inplace=True)\n",
        "plt.figure(figsize=(8,6))\n",
        "sns.barplot(x='Importance', y='Features', data= featureImp_DT)"
      ],
      "metadata": {
        "colab": {
          "base_uri": "https://localhost:8080/",
          "height": 406
        },
        "id": "Anp1HV-IQcVA",
        "outputId": "2bacd1f6-9503-4bd0-b32a-a4e426fe7c19"
      },
      "execution_count": null,
      "outputs": [
        {
          "output_type": "execute_result",
          "data": {
            "text/plain": [
              "<matplotlib.axes._subplots.AxesSubplot at 0x7f768d525190>"
            ]
          },
          "metadata": {},
          "execution_count": 23
        },
        {
          "output_type": "display_data",
          "data": {
            "text/plain": [
              "<Figure size 576x432 with 1 Axes>"
            ],
            "image/png": "[encoded data removed]"
          },
          "metadata": {
            "needs_background": "light"
          }
        }
      ]
    },
    {
      "cell_type": "markdown",
      "source": [
        "# Random forest"
      ],
      "metadata": {
        "id": "EEV-gulTzQVq"
      }
    },
    {
      "cell_type": "code",
      "source": [
        "# RF hyper parameter tunnig\n",
        "rf = RandomForestClassifier()\n",
        "rf_params = {'n_estimators':[150,200,250], 'max_depth': np.arange(2,15)}\n",
        "rf = GridSearchCV(rf , param_grid=rf_params,scoring = 'f1', cv=5)\n",
        "rf.fit(X_train,y_train)\n",
        "print(rf.best_params_)\n",
        "RF= rf.best_estimator_\n",
        "#, 'max_leaf_nodes': np.arange(100,300,20)"
      ],
      "metadata": {
        "colab": {
          "base_uri": "https://localhost:8080/"
        },
        "id": "_zOyrF8OzOAf",
        "outputId": "02b5b211-58e3-4908-dbb7-a22cdc683b1f"
      },
      "execution_count": null,
      "outputs": [
        {
          "output_type": "stream",
          "name": "stdout",
          "text": [
            "{'max_depth': 13, 'n_estimators': 250}\n"
          ]
        }
      ]
    },
    {
      "cell_type": "code",
      "source": [
        "y_pred_test_RF = RF.predict(X_test)\n",
        "y_pred_train_RF = RF.predict(X_train)\n",
        "print('f1 score on test set:', f1_score(y_test,y_pred_test_RF))\n",
        "print('f1 score on train set:',f1_score(y_train,y_pred_train_RF) )\n",
        "print('Auc_score Test:', roc_auc_score(y_test,y_pred_test_RF))\n",
        "print('Auc_score Train:', roc_auc_score(y_train,y_pred_train_RF))\n",
        "# Recall is an important metric in this case\n",
        "print('Recall Score:', recall_score(y_test,y_pred_test_RF))\n",
        "print('Overall acccuracy', balanced_accuracy_score(y_train,y_pred_train_RF))\n",
        "# Since its binary classiffication, lets check the confusion matrix\n",
        "print('\\nConfusion matrix\\n', confusion_matrix(y_test,y_pred_test_RF,labels=[1,0]))\n",
        "print('Confusion matrix train\\n', confusion_matrix(y_train,y_pred_train_RF,labels=[1,0]))\n",
        "print('Confusion matrix model\\n', confusion_matrix(y_test,y_pred_test_RF,labels=[1,0]) + confusion_matrix(y_train,y_pred_train_RF,labels=[1,0]))"
      ],
      "metadata": {
        "colab": {
          "base_uri": "https://localhost:8080/"
        },
        "id": "pmQs_5MDzs0o",
        "outputId": "3097974a-f82c-4d72-9678-aa4e5b29cc65"
      },
      "execution_count": null,
      "outputs": [
        {
          "output_type": "stream",
          "name": "stdout",
          "text": [
            "f1 score on test set: 0.028169014084507043\n",
            "f1 score on train set: 0.4421487603305785\n",
            "Auc_score Test: 0.5034412388459846\n",
            "Auc_score Train: 0.6419098143236074\n",
            "Recall Score: 0.014925373134328358\n",
            "Overall acccuracy 0.6419098143236074\n",
            "\n",
            "Confusion matrix\n",
            " [[  1  66]\n",
            " [  3 370]]\n",
            "Confusion matrix train\n",
            " [[ 107  270]\n",
            " [   0 2110]]\n",
            "Confusion matrix model\n",
            " [[ 108  336]\n",
            " [   3 2480]]\n"
          ]
        }
      ]
    },
    {
      "cell_type": "code",
      "source": [
        "#plotting feature importance\n",
        "feature_imp_RF = RF.feature_importances_\n",
        "featureImp_RF = pd.DataFrame(zip(Columns,feature_imp_RF), columns = ('Features','Importance'))\n",
        "featureImp_RF.sort_values(['Importance'], axis=0, ascending=False, inplace=True)\n",
        "plt.figure(figsize=(8,6))\n",
        "sns.barplot(x='Importance', y='Features', data= featureImp_RF)"
      ],
      "metadata": {
        "id": "UH9MqaLcnaPi",
        "colab": {
          "base_uri": "https://localhost:8080/",
          "height": 406
        },
        "outputId": "75ef838f-8496-4cd8-a227-ba740cb92b6b"
      },
      "execution_count": null,
      "outputs": [
        {
          "output_type": "execute_result",
          "data": {
            "text/plain": [
              "<matplotlib.axes._subplots.AxesSubplot at 0x7f7684154150>"
            ]
          },
          "metadata": {},
          "execution_count": 27
        },
        {
          "output_type": "display_data",
          "data": {
            "text/plain": [
              "<Figure size 576x432 with 1 Axes>"
            ],
            "image/png": "[encoded data removed]"
          },
          "metadata": {
            "needs_background": "light"
          }
        }
      ]
    },
    {
      "cell_type": "markdown",
      "source": [
        "# XGB"
      ],
      "metadata": {
        "id": "tolXuv-c-mHD"
      }
    },
    {
      "cell_type": "code",
      "source": [
        "import xgboost as xgb"
      ],
      "metadata": {
        "id": "n98FwC8V-eWk"
      },
      "execution_count": null,
      "outputs": []
    },
    {
      "cell_type": "code",
      "source": [
        ""
      ],
      "metadata": {
        "colab": {
          "base_uri": "https://localhost:8080/"
        },
        "id": "HgqHm7CrwBzX",
        "outputId": "7413c3a5-d20e-4d39-cfd4-9195b33e10a1"
      },
      "execution_count": null,
      "outputs": [
        {
          "output_type": "execute_result",
          "data": {
            "text/plain": [
              "['age',\n",
              " 'cigsPerDay',\n",
              " 'BPMeds',\n",
              " 'totChol',\n",
              " 'sysBP',\n",
              " 'diaBP',\n",
              " 'BMI',\n",
              " 'heartRate',\n",
              " 'glucose',\n",
              " 'sex_F',\n",
              " 'sex_M',\n",
              " 'is_smoking_NO',\n",
              " 'is_smoking_YES',\n",
              " 'prevalentStroke_0',\n",
              " 'prevalentStroke_1',\n",
              " 'prevalentHyp_0',\n",
              " 'prevalentHyp_1',\n",
              " 'diabetes_0',\n",
              " 'diabetes_1']"
            ]
          },
          "metadata": {},
          "execution_count": 37
        }
      ]
    },
    {
      "cell_type": "code",
      "source": [
        ""
      ],
      "metadata": {
        "id": "0vXQaH5r-ugq"
      },
      "execution_count": null,
      "outputs": []
    }
  ]
}